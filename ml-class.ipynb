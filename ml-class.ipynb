{
 "cells": [
  {
   "cell_type": "markdown",
   "metadata": {},
   "source": [
    "# Coursera Machine Learning course code rewritten in Python"
   ]
  },
  {
   "cell_type": "markdown",
   "metadata": {},
   "source": [
    "## Linear Regression"
   ]
  },
  {
   "cell_type": "markdown",
   "metadata": {},
   "source": [
    "### Prelude"
   ]
  },
  {
   "cell_type": "code",
   "execution_count": 34,
   "metadata": {
    "collapsed": true
   },
   "outputs": [],
   "source": [
    "import csv\n",
    "import matplotlib.pyplot as plt\n",
    "from numpy import *\n",
    "from math import exp\n",
    "from scipy.optimize import fmin"
   ]
  },
  {
   "cell_type": "markdown",
   "metadata": {},
   "source": [
    "### Data retrieval"
   ]
  },
  {
   "cell_type": "code",
   "execution_count": 3,
   "metadata": {
    "collapsed": true
   },
   "outputs": [],
   "source": [
    "def getIiter(ifname):\n",
    "    \"\"\"\n",
    "    Get the iterator from a csv file with filename ifname\n",
    "    \"\"\"\n",
    "    ifile = open(ifname, 'r')\n",
    "    iiter = csv.reader(ifile)\n",
    "    return iiter"
   ]
  },
  {
   "cell_type": "code",
   "execution_count": 4,
   "metadata": {
    "collapsed": true
   },
   "outputs": [],
   "source": [
    "def getRow(iiter):\n",
    "    \"\"\"\n",
    "    Get one line from a csv iterator\n",
    "    \"\"\"\n",
    "    return parseRow(iiter.__next__())"
   ]
  },
  {
   "cell_type": "code",
   "execution_count": 5,
   "metadata": {
    "collapsed": true
   },
   "outputs": [],
   "source": [
    "def parseRow(s):\n",
    "    t = [float(x) for x in s]\n",
    "    return t[0], t[1]"
   ]
  },
  {
   "cell_type": "code",
   "execution_count": 6,
   "metadata": {
    "collapsed": true
   },
   "outputs": [],
   "source": [
    "def getAllRows(ifname, parseRowFunc):\n",
    "    iiter = getIiter(ifname)\n",
    "    x = []\n",
    "    y = []\n",
    "    for row in iiter:\n",
    "        x1, y1 = parseRowFunc(row)\n",
    "        x.append(x1)\n",
    "        y.append(y1)\n",
    "    return x, y"
   ]
  },
  {
   "cell_type": "markdown",
   "metadata": {},
   "source": [
    "### Plotting"
   ]
  },
  {
   "cell_type": "code",
   "execution_count": 11,
   "metadata": {
    "collapsed": true
   },
   "outputs": [],
   "source": [
    "plotDots = plt.scatter"
   ]
  },
  {
   "cell_type": "code",
   "execution_count": 11,
   "metadata": {},
   "outputs": [
    {
     "data": {
      "image/png": "[encoded data removed]",
      "text/plain": [
       "<matplotlib.figure.Figure at 0x7f9807850470>"
      ]
     },
     "metadata": {},
     "output_type": "display_data"
    }
   ],
   "source": [
    "x, y = getAllRows('ex1data1.txt', parseRow)\n",
    "plotDots(x, y)\n",
    "plt.show()"
   ]
  },
  {
   "cell_type": "code",
   "execution_count": 12,
   "metadata": {
    "collapsed": true
   },
   "outputs": [],
   "source": [
    "trainX = [[1, z] for z in x]\n",
    "trainY = [[z] for z in y]\n",
    "m = len(trainX)"
   ]
  },
  {
   "cell_type": "code",
   "execution_count": 13,
   "metadata": {
    "collapsed": true
   },
   "outputs": [],
   "source": [
    "initTheta = zeros((len(trainX[0]), 1))\n",
    "alpha = .01\n",
    "epsilon = .01\n",
    "deltaEpsilon = .0000000001"
   ]
  },
  {
   "cell_type": "markdown",
   "metadata": {},
   "source": [
    "### Training"
   ]
  },
  {
   "cell_type": "code",
   "execution_count": 7,
   "metadata": {
    "collapsed": true
   },
   "outputs": [],
   "source": [
    "def trainFun(costFunction, updateTheta):\n",
    "    def train(theta, x, y):\n",
    "        error = costFunction(theta, x, y)\n",
    "        deltaError = deltaEpsilon + 1\n",
    "        #for i in range(10000):\n",
    "        while deltaError > deltaEpsilon and error > epsilon:\n",
    "            theta = updateTheta(theta, x, y)\n",
    "            newError = costFunction(theta, x, y)\n",
    "            deltaError = abs(newError - error)\n",
    "            error = newError\n",
    "        return theta, error, deltaError\n",
    "    return train"
   ]
  },
  {
   "cell_type": "code",
   "execution_count": 25,
   "metadata": {
    "collapsed": true
   },
   "outputs": [],
   "source": [
    "def costFunction(theta, x, y):\n",
    "    return linalg.norm(dot(x, theta) - y) ** 2 / 2 / m"
   ]
  },
  {
   "cell_type": "code",
   "execution_count": 26,
   "metadata": {},
   "outputs": [
    {
     "name": "stdout",
     "output_type": "stream",
     "text": [
      "32.0727338775\n"
     ]
    }
   ],
   "source": [
    "print(costFunction(initTheta, trainX, trainY))"
   ]
  },
  {
   "cell_type": "code",
   "execution_count": 27,
   "metadata": {
    "collapsed": true
   },
   "outputs": [],
   "source": [
    "def updateTheta(theta, x, y):\n",
    "    return theta - alpha / m * dot(array(x).T, (dot(x, theta) - y))"
   ]
  },
  {
   "cell_type": "code",
   "execution_count": 56,
   "metadata": {
    "collapsed": true
   },
   "outputs": [],
   "source": [
    "train = trainFun(costFunction, updateTheta)"
   ]
  },
  {
   "cell_type": "markdown",
   "metadata": {},
   "source": [
    "Train the data:"
   ]
  },
  {
   "cell_type": "code",
   "execution_count": 57,
   "metadata": {
    "scrolled": true
   },
   "outputs": [
    {
     "name": "stdout",
     "output_type": "stream",
     "text": [
      "[[-3.89522991]\n",
      " [ 1.19297829]] 4.47697140361 9.99040850047e-11\n"
     ]
    }
   ],
   "source": [
    "theta, error, deltaError = train(initTheta, trainX, trainY)\n",
    "print(theta, error, deltaError)"
   ]
  },
  {
   "cell_type": "markdown",
   "metadata": {},
   "source": [
    "For comparison, the result using linalg.lstsq:"
   ]
  },
  {
   "cell_type": "code",
   "execution_count": 30,
   "metadata": {},
   "outputs": [
    {
     "data": {
      "text/plain": [
       "(array([[-3.89578088],\n",
       "        [ 1.19303364]]),\n",
       " array([ 868.53244694]),\n",
       " 2,\n",
       " array([ 89.3067594 ,   4.18152836]))"
      ]
     },
     "execution_count": 30,
     "metadata": {},
     "output_type": "execute_result"
    }
   ],
   "source": [
    "linalg.lstsq(trainX, trainY)"
   ]
  },
  {
   "cell_type": "code",
   "execution_count": 40,
   "metadata": {
    "collapsed": true
   },
   "outputs": [],
   "source": [
    "def plotLine(theta, x):\n",
    "    xmin = min(x)\n",
    "    xmax = max(x)\n",
    "    xr = arange(xmin, xmax, (xmax - xmin) / 100)\n",
    "    yr = [theta[0][0] + x * theta[1][0] for x in xr]\n",
    "    plt.plot(xr, yr)"
   ]
  },
  {
   "cell_type": "code",
   "execution_count": 37,
   "metadata": {},
   "outputs": [
    {
     "data": {
      "image/png": "[encoded data removed]",
      "text/plain": [
       "<matplotlib.figure.Figure at 0x7f98075762b0>"
      ]
     },
     "metadata": {},
     "output_type": "display_data"
    }
   ],
   "source": [
    "plotLine(theta, x)\n",
    "plotDots(x, y)\n",
    "plt.show()"
   ]
  },
  {
   "cell_type": "markdown",
   "metadata": {},
   "source": [
    "### Predicting"
   ]
  },
  {
   "cell_type": "code",
   "execution_count": 38,
   "metadata": {
    "collapsed": true
   },
   "outputs": [],
   "source": [
    "def prediction(theta, x):\n",
    "    return theta[0][0] + theta[1][0] * x"
   ]
  },
  {
   "cell_type": "code",
   "execution_count": 39,
   "metadata": {},
   "outputs": [
    {
     "name": "stdout",
     "output_type": "stream",
     "text": [
      "0.280194115407 4.45561814337\n"
     ]
    }
   ],
   "source": [
    "print(prediction(theta, 3.5), prediction(theta, 7))"
   ]
  },
  {
   "cell_type": "markdown",
   "metadata": {},
   "source": [
    "## Logistical regression"
   ]
  },
  {
   "cell_type": "markdown",
   "metadata": {},
   "source": [
    "### Data retrieval"
   ]
  },
  {
   "cell_type": "code",
   "execution_count": 8,
   "metadata": {
    "collapsed": true
   },
   "outputs": [],
   "source": [
    "def parseRow1(s):\n",
    "    return [float(s[0]), float(s[1])], int(s[2])"
   ]
  },
  {
   "cell_type": "markdown",
   "metadata": {},
   "source": [
    "### Plot data"
   ]
  },
  {
   "cell_type": "code",
   "execution_count": 9,
   "metadata": {
    "collapsed": true
   },
   "outputs": [],
   "source": [
    "def plotDots1(x, y):\n",
    "    xpos = []\n",
    "    ypos = []\n",
    "    xneg = []\n",
    "    yneg = []\n",
    "    for [xx, yy], zz in zip(x, y):\n",
    "        if zz == 1:\n",
    "            xpos.append(xx)\n",
    "            ypos.append(yy)\n",
    "        else:\n",
    "            xneg.append(xx)\n",
    "            yneg.append(yy)\n",
    "    plotDots(xpos, ypos, color='g')\n",
    "    plotDots(xneg, yneg, color='r')"
   ]
  },
  {
   "cell_type": "code",
   "execution_count": 12,
   "metadata": {
    "scrolled": true
   },
   "outputs": [
    {
     "data": {
      "image/png": "[encoded data removed]",
      "text/plain": [
       "<matplotlib.figure.Figure at 0x7f444a516630>"
      ]
     },
     "metadata": {},
     "output_type": "display_data"
    }
   ],
   "source": [
    "x, y = getAllRows('ex2data1.txt', parseRow1)\n",
    "plotDots1(x, y)\n",
    "plt.show()"
   ]
  },
  {
   "cell_type": "markdown",
   "metadata": {
    "collapsed": true
   },
   "source": [
    "### Training"
   ]
  },
  {
   "cell_type": "code",
   "execution_count": 13,
   "metadata": {
    "collapsed": true
   },
   "outputs": [],
   "source": [
    "def sigmoid(x):\n",
    "    return 1 / (1 + exp(- x))"
   ]
  },
  {
   "cell_type": "code",
   "execution_count": 14,
   "metadata": {
    "collapsed": true
   },
   "outputs": [],
   "source": [
    "vSigmoid = vectorize(sigmoid)\n",
    "vLog = vectorize(log)"
   ]
  },
  {
   "cell_type": "code",
   "execution_count": 15,
   "metadata": {
    "collapsed": true
   },
   "outputs": [],
   "source": [
    "def costFunction1(theta, x, y):\n",
    "    sigxt = vSigmoid(dot(x, theta))\n",
    "    return - 1 / m * (dot(y.T, vLog(sigxt)) + dot((1 - y.T), vLog(1 - sigxt)))"
   ]
  },
  {
   "cell_type": "code",
   "execution_count": 16,
   "metadata": {
    "collapsed": true
   },
   "outputs": [],
   "source": [
    "def gradient1(theta, x, y):\n",
    "    sigxt = vSigmoid(dot(x, theta))\n",
    "    #print(shape(sigxt), shape(y), shape(x))\n",
    "    return 1 / m * dot(x.T, (sigxt - y))"
   ]
  },
  {
   "cell_type": "code",
   "execution_count": 17,
   "metadata": {
    "collapsed": true
   },
   "outputs": [],
   "source": [
    "def updateTheta1(theta, x, y):\n",
    "    #sigxt = vSigmoid(dot(x, theta))\n",
    "    return theta - alpha * gradient1(theta, x, y)\n",
    "    #return theta - alpha / m * dot(x.T, sigxt - y)"
   ]
  },
  {
   "cell_type": "code",
   "execution_count": 18,
   "metadata": {
    "collapsed": true
   },
   "outputs": [],
   "source": [
    "train1 = trainFun(costFunction1, updateTheta1)"
   ]
  },
  {
   "cell_type": "code",
   "execution_count": 19,
   "metadata": {
    "collapsed": true
   },
   "outputs": [],
   "source": [
    "trainX = array([[1] + z for z in x])\n",
    "trainY = array([[z] for z in y])\n",
    "m = len(trainX)"
   ]
  },
  {
   "cell_type": "code",
   "execution_count": 30,
   "metadata": {},
   "outputs": [],
   "source": [
    "initTheta = zeros((len(trainX[0]), 1))\n",
    "alpha = .0006\n",
    "epsilon = .01\n",
    "deltaEpsilon = .0000000001"
   ]
  },
  {
   "cell_type": "markdown",
   "metadata": {},
   "source": [
    "If we do with the same alpha all the time, the first alpha has to be small like .0006, because for example .001 does not make costFunction1 decrease on first iteration and .0007 makes the decrement smaller than .0006. But setting alpha to be constantly .0006 has its own problem: the cost function decreases very slowly. For example, after 10000 iterations, it only goes from .693 to .602, whereas in ml-class with fminunc, after 400 iterations it goes down to .203."
   ]
  },
  {
   "cell_type": "code",
   "execution_count": 25,
   "metadata": {},
   "outputs": [
    {
     "name": "stdout",
     "output_type": "stream",
     "text": [
      "[[ 0.69314718]]\n",
      "[[ -0.1       ]\n",
      " [-12.00921659]\n",
      " [-11.26284221]]\n",
      "[[ 0.63637645]]\n"
     ]
    }
   ],
   "source": [
    "print(costFunction1(initTheta, trainX, trainY))\n",
    "print(gradient1(initTheta, trainX, trainY))\n",
    "theta = updateTheta1(initTheta, trainX, trainY)\n",
    "print(costFunction1(theta, trainX, trainY))"
   ]
  },
  {
   "cell_type": "code",
   "execution_count": 165,
   "metadata": {
    "scrolled": true
   },
   "outputs": [
    {
     "name": "stdout",
     "output_type": "stream",
     "text": [
      "[[-0.40824491]\n",
      " [ 0.01326649]\n",
      " [ 0.00362859]] [[ 0.60202439]] [[  2.63830809e-06]]\n"
     ]
    }
   ],
   "source": [
    "theta, error, deltaError = train1(initTheta, trainX, trainY)\n",
    "print(theta, error, deltaError)"
   ]
  },
  {
   "cell_type": "code",
   "execution_count": 27,
   "metadata": {
    "collapsed": true
   },
   "outputs": [],
   "source": [
    "def costFunctionTheta(theta):\n",
    "    return costFunction1(theta, trainX, trainY)"
   ]
  },
  {
   "cell_type": "code",
   "execution_count": 35,
   "metadata": {
    "scrolled": false
   },
   "outputs": [
    {
     "name": "stdout",
     "output_type": "stream",
     "text": [
      "Optimization terminated successfully.\n",
      "         Current function value: 0.203498\n",
      "         Iterations: 157\n",
      "         Function evaluations: 287\n",
      "[-25.16130062   0.20623142   0.20147143]\n"
     ]
    }
   ],
   "source": [
    "#print(fmin_bfgs(costFunctionTheta, initTheta, maxiter=0))\n",
    "theta = fmin(costFunctionTheta, initTheta, maxiter=200)\n",
    "#print(theta, error, deltaError)\n",
    "print(theta)"
   ]
  },
  {
   "cell_type": "markdown",
   "metadata": {},
   "source": [
    "fmin_bfgs didn't work (even with one iteration it gives division by 0 error).\n",
    "The cost function of the optimal theta calculated by fmin is the same (0.203498) as the one obtained by fminunc in octave.\n",
    "\n",
    "More info on fmin: https://docs.scipy.org/doc/scipy-0.10.0/reference/generated/scipy.optimize.fmin.html#scipy.optimize.fmin"
   ]
  },
  {
   "cell_type": "code",
   "execution_count": 37,
   "metadata": {},
   "outputs": [
    {
     "name": "stdout",
     "output_type": "stream",
     "text": [
      "[ 0.2034977]\n"
     ]
    }
   ],
   "source": [
    "print(costFunction1(theta, trainX, trainY))"
   ]
  },
  {
   "cell_type": "code",
   "execution_count": 38,
   "metadata": {
    "collapsed": true
   },
   "outputs": [],
   "source": [
    "def plotLine1(theta, x):\n",
    "    theta0 = - theta[0] / theta[2]\n",
    "    theta1 = - theta[1] / theta[2]\n",
    "    plotLine([[theta0], [theta1]], [y[0] for y in x])"
   ]
  },
  {
   "cell_type": "code",
   "execution_count": 41,
   "metadata": {
    "scrolled": true
   },
   "outputs": [
    {
     "data": {
      "image/png": "[encoded data removed]",
      "text/plain": [
       "<matplotlib.figure.Figure at 0x7f444a3b9b70>"
      ]
     },
     "metadata": {},
     "output_type": "display_data"
    }
   ],
   "source": [
    "plotDots1(x, y)\n",
    "plotLine1(theta, x)\n",
    "plt.show()"
   ]
  },
  {
   "cell_type": "markdown",
   "metadata": {},
   "source": [
    "### Prediction"
   ]
  },
  {
   "cell_type": "code",
   "execution_count": 45,
   "metadata": {
    "collapsed": true
   },
   "outputs": [],
   "source": [
    "def predictProb(x):\n",
    "    return sigmoid(dot([1] + x, theta))"
   ]
  },
  {
   "cell_type": "code",
   "execution_count": 43,
   "metadata": {
    "collapsed": true
   },
   "outputs": [],
   "source": [
    "def predict(x):\n",
    "    p = predictProb(x)\n",
    "    if p > .5:\n",
    "        return 1\n",
    "    else:\n",
    "        return 0"
   ]
  },
  {
   "cell_type": "code",
   "execution_count": 54,
   "metadata": {},
   "outputs": [],
   "source": [
    "def accuracy(x, y):\n",
    "    b = [1 if predict(xx) == yy else 0 for xx, yy in zip(x, y)]\n",
    "    return sum(b) / len(b)"
   ]
  },
  {
   "cell_type": "code",
   "execution_count": 55,
   "metadata": {},
   "outputs": [
    {
     "data": {
      "text/plain": [
       "0.89000000000000001"
      ]
     },
     "execution_count": 55,
     "metadata": {},
     "output_type": "execute_result"
    }
   ],
   "source": [
    "accuracy(x, y)"
   ]
  },
  {
   "cell_type": "code",
   "execution_count": null,
   "metadata": {
    "collapsed": true
   },
   "outputs": [],
   "source": []
  },
  {
   "cell_type": "code",
   "execution_count": null,
   "metadata": {
    "collapsed": true
   },
   "outputs": [],
   "source": []
  },
  {
   "cell_type": "code",
   "execution_count": null,
   "metadata": {
    "collapsed": true
   },
   "outputs": [],
   "source": []
  },
  {
   "cell_type": "code",
   "execution_count": null,
   "metadata": {
    "collapsed": true
   },
   "outputs": [],
   "source": []
  },
  {
   "cell_type": "code",
   "execution_count": null,
   "metadata": {
    "collapsed": true
   },
   "outputs": [],
   "source": []
  },
  {
   "cell_type": "code",
   "execution_count": null,
   "metadata": {
    "collapsed": true
   },
   "outputs": [],
   "source": []
  },
  {
   "cell_type": "code",
   "execution_count": null,
   "metadata": {
    "collapsed": true
   },
   "outputs": [],
   "source": []
  },
  {
   "cell_type": "code",
   "execution_count": null,
   "metadata": {
    "collapsed": true
   },
   "outputs": [],
   "source": []
  },
  {
   "cell_type": "code",
   "execution_count": null,
   "metadata": {
    "collapsed": true
   },
   "outputs": [],
   "source": []
  }
 ],
 "metadata": {
  "kernelspec": {
   "display_name": "Python 3",
   "language": "python",
   "name": "python3"
  },
  "language_info": {
   "codemirror_mode": {
    "name": "ipython",
    "version": 3
   },
   "file_extension": ".py",
   "mimetype": "text/x-python",
   "name": "python",
   "nbconvert_exporter": "python",
   "pygments_lexer": "ipython3",
   "version": "3.6.3"
  }
 },
 "nbformat": 4,
 "nbformat_minor": 2
}
