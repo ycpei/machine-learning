{
 "cells": [
  {
   "cell_type": "code",
   "execution_count": 5,
   "metadata": {
    "collapsed": true
   },
   "outputs": [],
   "source": [
    "from numpy import *\n",
    "import doctest\n",
    "\n",
    "def test():\n",
    "    doctest.testmod()\n",
    "\n",
    "def smo(kernel, y, alpha, c, maxIter):\n",
    "    '''\n",
    "    smo: [[Number]] -> [Number] -> [Number] -> Number -> Number -> [Number]\n",
    "\n",
    "    smo(kernel, y, alpha, c, maxIter) = the argmin of \n",
    "    sum alpha[i] - 1 / 2 sum (y[i] y[j]) alpha[i] alpha[j] k[i][j]\n",
    "    subject to 0 <= alpha[i] <= c and sum alpha[i] y[i] = 0\n",
    "    '''\n",
    "    # keep running smoIte until it converges or it has run maxIter \n",
    "    # iterations\n",
    "    return 0\n",
    "\n",
    "def smoIte(kernel, y, alpha, c):\n",
    "    '''\n",
    "    smoIte: one iteration\n",
    "    '''\n",
    "    #(i1, i2) = pickInd\n",
    "    (i1, i2) = (1, 2)\n",
    "    minusSum = - sum(alpha * y)\n",
    "    gamma = minusSum + y[i1] * alpha[i1] + y[i2] * alpha[i2]\n",
    "    x1, x2 = gamma * y[i1] * y[i2], (gamma - c) * y[i1] * y[i2]\n",
    "    if x1 > x2:\n",
    "        x1, x2 = x2, x1\n",
    "    x, y = boundInt(x1, x2, 0, c)\n",
    "    \n",
    "def pickInd ():\n",
    "    \"\"\"\n",
    "    ? -> i1, i2\n",
    "    Pick the indices for the next iteration\n",
    "    \"\"\"\n",
    "    return 0, 1\n",
    "\n",
    "def quadForm(alpha, y, kernel):\n",
    "    '''\n",
    "    [Number] -> [Number] -> [[Number]] -> Number\n",
    "    calculate the quadratic form\n",
    "    quadForm = \\sum alpha_i - (1 / 2) \\sum_ij y_i y_j alpha_i alpha_j K_ij\n",
    "    '''\n",
    "    n = len(alpha)\n",
    "    return sum(alpha) - .5 * sum([y[i] * y[j] * alpha[i] * alpha[j] \\\n",
    "                                  * K[i][j] for i, j in zip(range(n), range(n))])\n",
    "\n",
    "def boundInt(x1, y1, x2, y2):\n",
    "    '''\n",
    "    boundInt: Number -> Number -> Number -> Number -> (Number, Number)\n",
    "    boundInt(x1, y1, x2, y2) = the intersection of intervals\n",
    "    [x1, y1] \\cap [x2, y2] = [x, y], returns tuple (x, y)\n",
    "    >>> boundInt(1, 3, 2, 4) == (2, 3)\n",
    "    True\n",
    "    '''\n",
    "    return max(x1, x2), min(y1, y2)\n",
    "\n",
    "def maxInt(a, b, c, x, y):\n",
    "    '''\n",
    "    maxInt(a, b, c, x, y) = (argmax, max)_{z \\in [x, y]} (az^2 + bz + c)\n",
    "    >>> maxInt(-1, 2, 3, 0, 3) == (1, 4)\n",
    "    True\n",
    "    '''\n",
    "    def f(z):\n",
    "        return a * z ** 2 + b * z + c\n",
    "    w = - b / 2 / a\n",
    "    compList = [(x, f(x)), (y, f(y))]\n",
    "    if x <= w and w <= y:\n",
    "        compList += [(w, f(w))]\n",
    "    return max(compList, key=lambda x:x[1])"
   ]
  },
  {
   "cell_type": "code",
   "execution_count": 3,
   "metadata": {},
   "outputs": [
    {
     "ename": "SyntaxError",
     "evalue": "invalid syntax (<ipython-input-3-4eedf4b6d40a>, line 1)",
     "output_type": "error",
     "traceback": [
      "\u001b[0;36m  File \u001b[0;32m\"<ipython-input-3-4eedf4b6d40a>\"\u001b[0;36m, line \u001b[0;32m1\u001b[0m\n\u001b[0;31m    [1 ... 5]\u001b[0m\n\u001b[0m         ^\u001b[0m\n\u001b[0;31mSyntaxError\u001b[0m\u001b[0;31m:\u001b[0m invalid syntax\n"
     ]
    }
   ],
   "source": [
    "[1 ... 5]"
   ]
  },
  {
   "cell_type": "code",
   "execution_count": null,
   "metadata": {
    "collapsed": true
   },
   "outputs": [],
   "source": []
  }
 ],
 "metadata": {
  "kernelspec": {
   "display_name": "Python 3",
   "language": "python",
   "name": "python3"
  },
  "language_info": {
   "codemirror_mode": {
    "name": "ipython",
    "version": 3
   },
   "file_extension": ".py",
   "mimetype": "text/x-python",
   "name": "python",
   "nbconvert_exporter": "python",
   "pygments_lexer": "ipython3",
   "version": "3.6.3"
  }
 },
 "nbformat": 4,
 "nbformat_minor": 2
}
